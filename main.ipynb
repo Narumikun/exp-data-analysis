{
 "cells": [
  {
   "cell_type": "markdown",
   "metadata": {},
   "source": [
    "## Example"
   ]
  },
  {
   "cell_type": "code",
   "execution_count": null,
   "metadata": {},
   "outputs": [],
   "source": [
    "%load_ext autoreload\n",
    "%autoreload 2\n",
    "%matplotlib inline"
   ]
  },
  {
   "cell_type": "code",
   "execution_count": null,
   "metadata": {},
   "outputs": [],
   "source": [
    "import matplotlib.pyplot as plt  # noqa\n",
    "import numpy as np  # noqa\n",
    "import pandas as pd  # noqa\n",
    "from IPython.display import display  # noqa"
   ]
  },
  {
   "cell_type": "code",
   "execution_count": null,
   "metadata": {
    "pycharm": {
     "name": "#%%\n"
    }
   },
   "outputs": [],
   "source": [
    "from tensile.tensile import *\n",
    "plt.style.use(['science','notebook'])\n"
   ]
  },
  {
   "cell_type": "markdown",
   "metadata": {},
   "source": [
    "文件名可以使用单个文件，或同一组被岛津软件分割的文件"
   ]
  },
  {
   "cell_type": "code",
   "execution_count": null,
   "metadata": {
    "pycharm": {
     "name": "#%%\n"
    }
   },
   "outputs": [],
   "source": [
    "# logger.level = logging.INFO\n",
    "data1 = TensileTest(fps='data/PAAcFeX-NO1.csv')\n",
    "data2 = TensileTest(fps=['data/PAAcFe0.5Cay-1.csv','data/PAAcFe0.5Cay-2.csv'])"
   ]
  },
  {
   "cell_type": "code",
   "execution_count": null,
   "metadata": {
    "pycharm": {
     "name": "#%%\n"
    },
    "scrolled": true
   },
   "outputs": [],
   "source": [
    "d3=data2[range(0,6)]\n",
    "d3.set_stress_unit('kPa')\n",
    "d3.calculate()\n",
    "# init modulus\n",
    "plt.figure('init_modulus',facecolor='white')\n",
    "d3.cal_init_modulus(x0=0.01,xlim=(0.04,0.1))\n",
    "display(d3.info)\n",
    "plt.show()\n",
    "# breaking \n",
    "plt.figure('breaking',facecolor='white')\n",
    "d3.cal_break_point(method='peak')\n",
    "display(d3.info)\n",
    "plt.show()"
   ]
  },
  {
   "cell_type": "code",
   "execution_count": null,
   "metadata": {
    "pycharm": {
     "name": "#%%\n"
    }
   },
   "outputs": [],
   "source": [
    "d3=data1[0:6]\n",
    "d5=data1[6:13]\n",
    "d7=data1[13:23]\n",
    "d8=data1[23:29]\n",
    "d10=data1[29:]\n",
    "all_data={\n",
    "    \"0.3\":d3,\n",
    "    \"0.5\":d5,\n",
    "    \"0.7\":d7,\n",
    "    \"0.8\":d8,\n",
    "    \"1.0\":d10\n",
    "}\n",
    "plt.figure('ss',facecolor='white',clear=True)\n",
    "for conc, data in all_data.items():\n",
    "    data.serial_name=f'PAAcFe{conc}'\n",
    "    color = next(get_color_cycler())['color']\n",
    "    data.set_stress_unit('kPa')\n",
    "    data.calculate()\n",
    "    data.draw(color=color)\n",
    "    # plt.figure(f'init_modulus_{conc}',facecolor='white',clear=True)\n",
    "    data.cal_break_point('peak',plot=False)#(x0=0.01,xlim=(0.04,0.1))\n",
    "    data.cal_init_modulus(plot=False)\n",
    "    #plt.title(f'Initial modulus PAAcFe{conc}')\n",
    "    #display(data.info)\n",
    "plt.title('Stress-Strain curves PAAcFex')\n",
    "plt.show()"
   ]
  },
  {
   "cell_type": "code",
   "execution_count": null,
   "metadata": {
    "pycharm": {
     "name": "#%%\n"
    }
   },
   "outputs": [],
   "source": [
    "TensileTest.barplot(list(all_data.values()),'break_strength')"
   ]
  },
  {
   "cell_type": "code",
   "execution_count": null,
   "metadata": {
    "pycharm": {
     "name": "#%%\n"
    }
   },
   "outputs": [],
   "source": [
    "display(d3.info)"
   ]
  },
  {
   "cell_type": "code",
   "execution_count": null,
   "metadata": {},
   "outputs": [],
   "source": []
  }
 ],
 "metadata": {
  "kernelspec": {
   "display_name": "Python 3",
   "language": "python",
   "name": "python3"
  },
  "language_info": {
   "codemirror_mode": {
    "name": "ipython",
    "version": 3
   },
   "file_extension": ".py",
   "mimetype": "text/x-python",
   "name": "python",
   "nbconvert_exporter": "python",
   "pygments_lexer": "ipython3",
   "version": "3.8.2"
  }
 },
 "nbformat": 4,
 "nbformat_minor": 1
}